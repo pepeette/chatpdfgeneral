{
 "cells": [
  {
   "cell_type": "code",
   "execution_count": null,
   "id": "e41edc92-3a8e-4cca-881a-3b85e3d97480",
   "metadata": {},
   "outputs": [],
   "source": [
    "# langchain==0.0.154\n",
    "# PyPDF2==3.0.1\n",
    "# python-dotenv==1.0.0\n",
    "# streamlit==1.18.1\n",
    "# faiss-cpu==1.7.4\n",
    "# streamlit-extras\n",
    "# altair==4.1.0\n",
    "# openai\n",
    "# tiktoken"
   ]
  },
  {
   "cell_type": "code",
   "execution_count": 1,
   "id": "2972f614-98eb-43c9-b3b9-88cfe9ee9c40",
   "metadata": {},
   "outputs": [],
   "source": [
    "import streamlit as st\n",
    "from dotenv import load_dotenv\n",
    "import pickle\n",
    "from PyPDF2 import PdfReader\n",
    "from streamlit_extras.add_vertical_space import add_vertical_space\n",
    "from langchain.text_splitter import RecursiveCharacterTextSplitter\n",
    "from langchain.embeddings.openai import OpenAIEmbeddings\n",
    "from langchain.vectorstores import FAISS\n",
    "from langchain.llms import OpenAI\n",
    "from langchain.chains.question_answering import load_qa_chain\n",
    "from langchain.callbacks import get_openai_callback\n",
    "import os"
   ]
  },
  {
   "cell_type": "code",
   "execution_count": 2,
   "id": "7e313d4a-e795-4056-a8f5-11de34125803",
   "metadata": {},
   "outputs": [],
   "source": [
    "st.set_page_config(page_title='🤗💬 PDF Chat App - GPT')"
   ]
  },
  {
   "cell_type": "code",
   "execution_count": 3,
   "id": "6a6ac7ea-a60a-4a61-bd11-24b27ece32c0",
   "metadata": {},
   "outputs": [
    {
     "name": "stderr",
     "output_type": "stream",
     "text": [
      "2023-08-21 15:24:48.553 \n",
      "  \u001b[33m\u001b[1mWarning:\u001b[0m to view this Streamlit app on a browser, run it with the following\n",
      "  command:\n",
      "\n",
      "    streamlit run C:\\Users\\Tis\\Documents\\Test\\Projects\\Python\\DB\\dbtaipy\\Lib\\site-packages\\ipykernel_launcher.py [ARGUMENTS]\n"
     ]
    }
   ],
   "source": [
    "# Sidebar contents\n",
    "with st.sidebar:\n",
    "    st.title('🤗💬 PDF Chat App')\n",
    "    st.markdown('''\n",
    "    ## About\n",
    "    This app is an LLM-powered chatbot built using:\n",
    "    - [Streamlit](https://streamlit.io/)\n",
    "    - [LangChain](https://python.langchain.com/)\n",
    "    - [OpenAI](https://platform.openai.com/docs/models) LLM model\n",
    "\n",
    "    ''')\n",
    "    add_vertical_space(5)\n",
    "    st.write('Made with ❤️ by [LaeTIS]')\n"
   ]
  },
  {
   "cell_type": "code",
   "execution_count": 4,
   "id": "378617b5-7905-4c42-bbb9-0f25db24720c",
   "metadata": {},
   "outputs": [],
   "source": [
    "def main():\n",
    "    st.header(\"Talk to your PDF 💬\")\n",
    "    st.write(\"This app uses OpenAI's LLM model to answer questions about your PDF file. Upload your PDF file and ask questions about it. The app will return the answer from your PDF file.\")\n",
    "\n",
    "    st.header(\"1. Pass your OPEN AI API KEY here\")\n",
    "    v='demo'\n",
    "    openai_key=st.text_input(\"**OPEN AI API KEY**\", value=v)\n",
    "    st.write(\"You can get your OpenAI API key from [here](https://platform.openai.com/account/api-keys)\")\n",
    "\n",
    "\n",
    "    if openai_key==v:\n",
    "        openai_key=st.secrets[\"OPENAI_API_KEY\"]\n",
    "    # if openai_key=='':\n",
    "    #     load_dotenv()\n",
    "    os.environ[\"OPENAI_API_KEY\"] = openai_key\n",
    "\n",
    "    # upload a PDF file\n",
    "\n",
    "    st.header(\"2. Upload PDF\")\n",
    "    pdf = st.file_uploader(\"**Upload your PDF**\", type='pdf')\n",
    "\n",
    "    # st.write(pdf)\n",
    "\n",
    "    if pdf is not None:\n",
    "        pdf_reader = PdfReader(pdf)\n",
    "\n",
    "        text = \"\"\n",
    "        for page in pdf_reader.pages:\n",
    "            text += page.extract_text()\n",
    "\n",
    "        text_splitter = RecursiveCharacterTextSplitter(\n",
    "            chunk_size=1000,\n",
    "            chunk_overlap=200,\n",
    "            length_function=len\n",
    "            )\n",
    "        chunks = text_splitter.split_text(text=text)\n",
    "\n",
    "        # # embeddings\n",
    "        store_name = pdf.name[:-4]\n",
    "        st.write(f'{store_name}')\n",
    "        # st.write(chunks)\n",
    "\n",
    "        if os.path.exists(f\"{store_name}.pkl\"):\n",
    "            with open(f\"{store_name}.pkl\", \"rb\") as f:\n",
    "                VectorStore = pickle.load(f)\n",
    "            # st.write('Embeddings Loaded from the Disk')s\n",
    "        else:\n",
    "            embeddings = OpenAIEmbeddings()\n",
    "            VectorStore = FAISS.from_texts(chunks, embedding=embeddings)\n",
    "            with open(f\"{store_name}.pkl\", \"wb\") as f:\n",
    "                pickle.dump(VectorStore, f)\n",
    "\n",
    "        # embeddings = OpenAIEmbeddings()\n",
    "        # VectorStore = FAISS.from_texts(chunks, embedding=embeddings)\n",
    "\n",
    "    # st.header(\"or.. Try it with this The Alchaemist PDF book\")\n",
    "    # if st.button('Ask The Alchemist Book Questions'):\n",
    "    #     with open(\"The_Alchemist.pkl\", \"rb\") as f:\n",
    "    #         VectorStore = pickle.load(f)\n",
    "        # Accept user questions/query\n",
    "        st.header(\"3. Ask questions about your PDF file:\")\n",
    "        q=\"Tell me about the content of the PDF\"\n",
    "        query = st.text_input(\"Questions\",value=q)\n",
    "        # st.write(query)\n",
    "\n",
    "        if st.button(\"Ask\"):\n",
    "            # st.write(openai_key)\n",
    "            # os.environ[\"OPENAI_API_KEY\"] = openai_key\n",
    "            if openai_key=='':\n",
    "                st.write('Warning: Please pass your OPEN AI API KEY on Step 1')\n",
    "            else:\n",
    "                docs = VectorStore.similarity_search(query=query, k=3)\n",
    "\n",
    "                llm = OpenAI()\n",
    "                chain = load_qa_chain(llm=llm, chain_type=\"stuff\")\n",
    "                with get_openai_callback() as cb:\n",
    "                    response = chain.run(input_documents=docs, question=query)\n",
    "                    print(cb)\n",
    "                st.header(\"Answer:\")\n",
    "                st.write(response)\n",
    "                st.write('--')\n",
    "                st.header(\"OpenAI API Usage:\")\n",
    "                st.text(cb)"
   ]
  },
  {
   "cell_type": "code",
   "execution_count": 5,
   "id": "331beaf0-99e0-4280-af85-a8fbb4088c0e",
   "metadata": {},
   "outputs": [
    {
     "ename": "FileNotFoundError",
     "evalue": "[Errno 2] No such file or directory: 'C:\\\\Users\\\\Tis\\\\Documents\\\\Test\\\\Projects\\\\Python\\\\DB\\\\dbtaipy\\\\.streamlit\\\\secrets.toml'",
     "output_type": "error",
     "traceback": [
      "\u001b[1;31m---------------------------------------------------------------------------\u001b[0m",
      "\u001b[1;31mFileNotFoundError\u001b[0m                         Traceback (most recent call last)",
      "Cell \u001b[1;32mIn[5], line 2\u001b[0m\n\u001b[0;32m      1\u001b[0m \u001b[38;5;28;01mif\u001b[39;00m \u001b[38;5;18m__name__\u001b[39m \u001b[38;5;241m==\u001b[39m \u001b[38;5;124m'\u001b[39m\u001b[38;5;124m__main__\u001b[39m\u001b[38;5;124m'\u001b[39m:\n\u001b[1;32m----> 2\u001b[0m     \u001b[43mmain\u001b[49m\u001b[43m(\u001b[49m\u001b[43m)\u001b[49m\n",
      "Cell \u001b[1;32mIn[4], line 12\u001b[0m, in \u001b[0;36mmain\u001b[1;34m()\u001b[0m\n\u001b[0;32m      8\u001b[0m st\u001b[38;5;241m.\u001b[39mwrite(\u001b[38;5;124m\"\u001b[39m\u001b[38;5;124mYou can get your OpenAI API key from [here](https://platform.openai.com/account/api-keys)\u001b[39m\u001b[38;5;124m\"\u001b[39m)\n\u001b[0;32m     11\u001b[0m \u001b[38;5;28;01mif\u001b[39;00m openai_key\u001b[38;5;241m==\u001b[39mv:\n\u001b[1;32m---> 12\u001b[0m     openai_key\u001b[38;5;241m=\u001b[39m\u001b[43mst\u001b[49m\u001b[38;5;241;43m.\u001b[39;49m\u001b[43msecrets\u001b[49m\u001b[43m[\u001b[49m\u001b[38;5;124;43m\"\u001b[39;49m\u001b[38;5;124;43mOPENAI_API_KEY\u001b[39;49m\u001b[38;5;124;43m\"\u001b[39;49m\u001b[43m]\u001b[49m\n\u001b[0;32m     13\u001b[0m \u001b[38;5;66;03m# if openai_key=='':\u001b[39;00m\n\u001b[0;32m     14\u001b[0m \u001b[38;5;66;03m#     load_dotenv()\u001b[39;00m\n\u001b[0;32m     15\u001b[0m os\u001b[38;5;241m.\u001b[39menviron[\u001b[38;5;124m\"\u001b[39m\u001b[38;5;124mOPENAI_API_KEY\u001b[39m\u001b[38;5;124m\"\u001b[39m] \u001b[38;5;241m=\u001b[39m openai_key\n",
      "File \u001b[1;32m~\\Documents\\Test\\Projects\\Python\\DB\\dbtaipy\\Lib\\site-packages\\streamlit\\runtime\\secrets.py:267\u001b[0m, in \u001b[0;36mSecrets.__getitem__\u001b[1;34m(self, key)\u001b[0m\n\u001b[0;32m    261\u001b[0m \u001b[38;5;250m\u001b[39m\u001b[38;5;124;03m\"\"\"Return the value with the given key. If no such key\u001b[39;00m\n\u001b[0;32m    262\u001b[0m \u001b[38;5;124;03mexists, raise a KeyError.\u001b[39;00m\n\u001b[0;32m    263\u001b[0m \n\u001b[0;32m    264\u001b[0m \u001b[38;5;124;03mThread-safe.\u001b[39;00m\n\u001b[0;32m    265\u001b[0m \u001b[38;5;124;03m\"\"\"\u001b[39;00m\n\u001b[0;32m    266\u001b[0m \u001b[38;5;28;01mtry\u001b[39;00m:\n\u001b[1;32m--> 267\u001b[0m     value \u001b[38;5;241m=\u001b[39m \u001b[38;5;28;43mself\u001b[39;49m\u001b[38;5;241;43m.\u001b[39;49m\u001b[43m_parse\u001b[49m\u001b[43m(\u001b[49m\u001b[38;5;28;43;01mTrue\u001b[39;49;00m\u001b[43m)\u001b[49m[key]\n\u001b[0;32m    268\u001b[0m     \u001b[38;5;28;01mif\u001b[39;00m \u001b[38;5;129;01mnot\u001b[39;00m \u001b[38;5;28misinstance\u001b[39m(value, Mapping):\n\u001b[0;32m    269\u001b[0m         \u001b[38;5;28;01mreturn\u001b[39;00m value\n",
      "File \u001b[1;32m~\\Documents\\Test\\Projects\\Python\\DB\\dbtaipy\\Lib\\site-packages\\streamlit\\runtime\\secrets.py:174\u001b[0m, in \u001b[0;36mSecrets._parse\u001b[1;34m(self, print_exceptions)\u001b[0m\n\u001b[0;32m    171\u001b[0m     \u001b[38;5;28;01mreturn\u001b[39;00m \u001b[38;5;28mself\u001b[39m\u001b[38;5;241m.\u001b[39m_secrets\n\u001b[0;32m    173\u001b[0m \u001b[38;5;28;01mtry\u001b[39;00m:\n\u001b[1;32m--> 174\u001b[0m     \u001b[38;5;28;01mwith\u001b[39;00m \u001b[38;5;28;43mopen\u001b[39;49m\u001b[43m(\u001b[49m\u001b[38;5;28;43mself\u001b[39;49m\u001b[38;5;241;43m.\u001b[39;49m\u001b[43m_file_path\u001b[49m\u001b[43m,\u001b[49m\u001b[43m \u001b[49m\u001b[43mencoding\u001b[49m\u001b[38;5;241;43m=\u001b[39;49m\u001b[38;5;124;43m\"\u001b[39;49m\u001b[38;5;124;43mutf-8\u001b[39;49m\u001b[38;5;124;43m\"\u001b[39;49m\u001b[43m)\u001b[49m \u001b[38;5;28;01mas\u001b[39;00m f:\n\u001b[0;32m    175\u001b[0m         secrets_file_str \u001b[38;5;241m=\u001b[39m f\u001b[38;5;241m.\u001b[39mread()\n\u001b[0;32m    176\u001b[0m \u001b[38;5;28;01mexcept\u001b[39;00m \u001b[38;5;167;01mFileNotFoundError\u001b[39;00m:\n",
      "\u001b[1;31mFileNotFoundError\u001b[0m: [Errno 2] No such file or directory: 'C:\\\\Users\\\\Tis\\\\Documents\\\\Test\\\\Projects\\\\Python\\\\DB\\\\dbtaipy\\\\.streamlit\\\\secrets.toml'"
     ]
    }
   ],
   "source": [
    "if __name__ == '__main__':\n",
    "    main()"
   ]
  },
  {
   "cell_type": "code",
   "execution_count": null,
   "id": "76e89e37-e3d9-4e45-a80b-104b57699c82",
   "metadata": {},
   "outputs": [],
   "source": []
  }
 ],
 "metadata": {
  "kernelspec": {
   "display_name": "Python 3 (ipykernel)",
   "language": "python",
   "name": "python3"
  },
  "language_info": {
   "codemirror_mode": {
    "name": "ipython",
    "version": 3
   },
   "file_extension": ".py",
   "mimetype": "text/x-python",
   "name": "python",
   "nbconvert_exporter": "python",
   "pygments_lexer": "ipython3",
   "version": "3.11.4"
  }
 },
 "nbformat": 4,
 "nbformat_minor": 5
}
